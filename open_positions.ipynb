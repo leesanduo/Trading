{
 "cells": [
  {
   "cell_type": "code",
   "execution_count": null,
   "metadata": {},
   "outputs": [],
   "source": [
    "'''To quickly see what open positions I currently have - using my xls file \"TradingJournal (FX) (2020).xlsx '''\n",
    "\n",
    "import pandas as pd\n",
    "from pandas import ExcelWriter\n",
    "from pandas import ExcelFile\n",
    "\n",
    "df = pd.read_excel(r\"/Users/sanduo/Documents/Trading/TradingJournal (FX) (2020).xlsx\", \\\n",
    "                   sheet_name = 'Trade Log', \\\n",
    "                  skiprows = 2)\n",
    "print(df)"
   ]
  },
  {
   "cell_type": "code",
   "execution_count": null,
   "metadata": {},
   "outputs": [],
   "source": [
    "# Using the Date column to filter out all the trades I've executed so far\n",
    "filter = df['Date'].isna()\n",
    "df_alltrades = df[~filter]\n",
    "print(df_alltrades)"
   ]
  },
  {
   "cell_type": "code",
   "execution_count": null,
   "metadata": {},
   "outputs": [],
   "source": [
    "# Using the Price Out column to identify which trades I have not closed yet, i.e. Open Positions\n",
    "open_filter = df_alltrades['Price Out'].isna()\n",
    "open_positions = df_alltrades[open_filter]\n",
    "open_ccys = open_positions['Pair']\n",
    "print(open_ccys)\n",
    "print('There are {} open positions currently.'.format(open_ccys.count()))"
   ]
  },
  {
   "cell_type": "code",
   "execution_count": null,
   "metadata": {},
   "outputs": [],
   "source": []
  },
  {
   "cell_type": "code",
   "execution_count": null,
   "metadata": {},
   "outputs": [],
   "source": []
  }
 ],
 "metadata": {
  "kernelspec": {
   "display_name": "Python 3",
   "language": "python",
   "name": "python3"
  },
  "language_info": {
   "codemirror_mode": {
    "name": "ipython",
    "version": 3
   },
   "file_extension": ".py",
   "mimetype": "text/x-python",
   "name": "python",
   "nbconvert_exporter": "python",
   "pygments_lexer": "ipython3",
   "version": "3.7.6"
  }
 },
 "nbformat": 4,
 "nbformat_minor": 4
}
